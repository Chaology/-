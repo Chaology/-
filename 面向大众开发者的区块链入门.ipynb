{
 "cells": [
  {
   "cell_type": "markdown",
   "metadata": {},
   "source": [
    "# 面向大众开发者的区块链入门"
   ]
  },
  {
   "cell_type": "markdown",
   "metadata": {},
   "source": [
    "### 简单的理解： 连接在一起的不可更改的列表 (immutable linked lists)"
   ]
  },
  {
   "cell_type": "markdown",
   "metadata": {},
   "source": [
    "![](lists.jpg)"
   ]
  },
  {
   "cell_type": "markdown",
   "metadata": {},
   "source": [
    "### 区块里的信息：Previous Block Hash + Timestamp + Merkle Root + Nonce"
   ]
  },
  {
   "cell_type": "markdown",
   "metadata": {},
   "source": [
    "![](blocks.jpg)"
   ]
  },
  {
   "cell_type": "markdown",
   "metadata": {},
   "source": [
    "### 搭一个“区块链”"
   ]
  },
  {
   "cell_type": "code",
   "execution_count": 1,
   "metadata": {
    "collapsed": true
   },
   "outputs": [],
   "source": [
    "import hashlib"
   ]
  },
  {
   "cell_type": "markdown",
   "metadata": {},
   "source": [
    "![](hash1.png)"
   ]
  },
  {
   "cell_type": "markdown",
   "metadata": {},
   "source": [
    "![](hash3.png)"
   ]
  },
  {
   "cell_type": "code",
   "execution_count": 2,
   "metadata": {
    "collapsed": false
   },
   "outputs": [],
   "source": [
    "class Blockchain():\n",
    "    def __init__(self,genesis_block):\n",
    "        self.block = genesis_block\n",
    "        self.next = None\n",
    "        self.chain = [self.block]\n",
    "    \n",
    "    def getBlock(self):\n",
    "        return self.block\n",
    "    \n",
    "    def getChain(self):\n",
    "        return self.chain\n",
    "    \n",
    "    def setNext(self, newnext):\n",
    "        pre_hash = hashlib.sha256(''.join(self.block)).hexdigest()\n",
    "        newnext.append(pre_hash)\n",
    "        self.block = newnext\n",
    "        self.chain.append(self.block)"
   ]
  },
  {
   "cell_type": "code",
   "execution_count": 3,
   "metadata": {
    "collapsed": false
   },
   "outputs": [],
   "source": [
    "Unitimes = Blockchain(['Unitimes is the best media for blockchain',\\\n",
    "                       '20181204','Tx_Root1','nounce'])"
   ]
  },
  {
   "cell_type": "code",
   "execution_count": 4,
   "metadata": {
    "collapsed": false
   },
   "outputs": [
    {
     "data": {
      "text/plain": [
       "['Unitimes is the best media for blockchain', '20181204', 'Tx_Root1', 'nounce']"
      ]
     },
     "execution_count": 4,
     "metadata": {},
     "output_type": "execute_result"
    }
   ],
   "source": [
    "Unitimes.getBlock()"
   ]
  },
  {
   "cell_type": "code",
   "execution_count": 5,
   "metadata": {
    "collapsed": false
   },
   "outputs": [],
   "source": [
    "Unitimes.setNext(['20181205','Tx_Root2','nounce'])"
   ]
  },
  {
   "cell_type": "code",
   "execution_count": 6,
   "metadata": {
    "collapsed": false
   },
   "outputs": [
    {
     "data": {
      "text/plain": [
       "['20181205',\n",
       " 'Tx_Root2',\n",
       " 'nounce',\n",
       " '02b4d67bb1fdbd632c6086e739ccf124ecd0ea4f359bf16b2edd523a2052b545']"
      ]
     },
     "execution_count": 6,
     "metadata": {},
     "output_type": "execute_result"
    }
   ],
   "source": [
    "Unitimes.getBlock()"
   ]
  },
  {
   "cell_type": "code",
   "execution_count": 7,
   "metadata": {
    "collapsed": true
   },
   "outputs": [],
   "source": [
    "Unitimes.setNext(['20181206','Tx_Root3','nounce'])"
   ]
  },
  {
   "cell_type": "code",
   "execution_count": 8,
   "metadata": {
    "collapsed": false
   },
   "outputs": [
    {
     "data": {
      "text/plain": [
       "['20181206',\n",
       " 'Tx_Root3',\n",
       " 'nounce',\n",
       " 'cb15cbed3d7324be63ca0f70baf00bb0eee6f70e30f090f374e20ff8c57336d0']"
      ]
     },
     "execution_count": 8,
     "metadata": {},
     "output_type": "execute_result"
    }
   ],
   "source": [
    "Unitimes.getBlock()"
   ]
  },
  {
   "cell_type": "code",
   "execution_count": 9,
   "metadata": {
    "collapsed": false
   },
   "outputs": [
    {
     "data": {
      "text/plain": [
       "[['Unitimes is the best media for blockchain',\n",
       "  '20181204',\n",
       "  'Tx_Root1',\n",
       "  'nounce'],\n",
       " ['20181205',\n",
       "  'Tx_Root2',\n",
       "  'nounce',\n",
       "  '02b4d67bb1fdbd632c6086e739ccf124ecd0ea4f359bf16b2edd523a2052b545'],\n",
       " ['20181206',\n",
       "  'Tx_Root3',\n",
       "  'nounce',\n",
       "  'cb15cbed3d7324be63ca0f70baf00bb0eee6f70e30f090f374e20ff8c57336d0']]"
      ]
     },
     "execution_count": 9,
     "metadata": {},
     "output_type": "execute_result"
    }
   ],
   "source": [
    "Unitimes.getChain()"
   ]
  },
  {
   "cell_type": "markdown",
   "metadata": {},
   "source": [
    "## 什么是比特币和 POW？"
   ]
  },
  {
   "cell_type": "markdown",
   "metadata": {},
   "source": [
    "![](pow.png)"
   ]
  },
  {
   "cell_type": "code",
   "execution_count": 10,
   "metadata": {
    "collapsed": false
   },
   "outputs": [],
   "source": [
    "def mining(puzzle):\n",
    "    Found = False\n",
    "    nounce = 0\n",
    "    while Found == False:\n",
    "        solution = hashlib.sha256(puzzle + str(nounce)).hexdigest()\n",
    "        nounce += 1\n",
    "        if solution.startswith('0000'):\n",
    "            print solution\n",
    "            Found = True\n",
    "    print nounce\n",
    "    print '50 BTC reward'"
   ]
  },
  {
   "cell_type": "code",
   "execution_count": 11,
   "metadata": {
    "collapsed": false
   },
   "outputs": [
    {
     "name": "stdout",
     "output_type": "stream",
     "text": [
      "000020c06a2de5533c55777e2b828a36efbc29af770361c46e6ba826f5b3248c\n",
      "55673\n",
      "50 BTC reward\n"
     ]
    }
   ],
   "source": [
    "mining('000022fa9b911eb9078f8d98a7864e697ae83ed54f5146bd84452cdafd043c19')"
   ]
  },
  {
   "cell_type": "markdown",
   "metadata": {},
   "source": [
    "Blockchain demo website: https://anders.com/blockchain/"
   ]
  },
  {
   "cell_type": "markdown",
   "metadata": {},
   "source": [
    "## 什么是以太坊？"
   ]
  },
  {
   "cell_type": "markdown",
   "metadata": {},
   "source": [
    "![](eth.png)"
   ]
  },
  {
   "cell_type": "markdown",
   "metadata": {},
   "source": [
    "![](eth2.png)"
   ]
  },
  {
   "cell_type": "markdown",
   "metadata": {},
   "source": [
    "## 写一个简单的以太坊合约 - 信息上链"
   ]
  },
  {
   "cell_type": "markdown",
   "metadata": {},
   "source": [
    "https://remix.ethereum.org"
   ]
  },
  {
   "cell_type": "markdown",
   "metadata": {},
   "source": [
    "pragma solidity ^0.5.1;\n",
    "\n",
    "contract Record { \n",
    "    \n",
    "    string public message;\n",
    "    address writer;\n",
    "    \n",
    "    function startWriting() public {\n",
    "        writer = msg.sender;\n",
    "    }\n",
    "\n",
    "    function setMessage(string memory newMessage) public {\n",
    "        require(msg.sender == writer);\n",
    "        message = newMessage;\n",
    "    }\n",
    "    \n",
    "    function getMessage() public view returns (string memory){\n",
    "        return message;\n",
    "    }\n",
    "}"
   ]
  },
  {
   "cell_type": "markdown",
   "metadata": {},
   "source": [
    "## 学习资源"
   ]
  },
  {
   "cell_type": "markdown",
   "metadata": {},
   "source": [
    "深入浅出理解比特币: [Mastering Bitcoin - Andreas Antonopoulos](https://github.com/bitcoinbook/bitcoinbook)"
   ]
  },
  {
   "cell_type": "markdown",
   "metadata": {},
   "source": [
    "斯坦福密码学课程: https://www.coursera.org/learn/crypto"
   ]
  },
  {
   "cell_type": "markdown",
   "metadata": {},
   "source": [
    "斯坦福比特币课程: https://www.coursera.org/learn/cryptocurrency"
   ]
  },
  {
   "cell_type": "markdown",
   "metadata": {},
   "source": [
    "深入浅出理解以太坊: [Mastering Ethereum - Andreas Antonopoulos](https://github.com/ethereumbook/ethereumbook)"
   ]
  },
  {
   "cell_type": "markdown",
   "metadata": {},
   "source": [
    "以太坊黄皮书: https://github.com/ethereum/yellowpaper"
   ]
  },
  {
   "cell_type": "code",
   "execution_count": null,
   "metadata": {
    "collapsed": true
   },
   "outputs": [],
   "source": []
  }
 ],
 "metadata": {
  "kernelspec": {
   "display_name": "Python 2",
   "language": "python",
   "name": "python2"
  },
  "language_info": {
   "codemirror_mode": {
    "name": "ipython",
    "version": 2
   },
   "file_extension": ".py",
   "mimetype": "text/x-python",
   "name": "python",
   "nbconvert_exporter": "python",
   "pygments_lexer": "ipython2",
   "version": "2.7.13"
  }
 },
 "nbformat": 4,
 "nbformat_minor": 2
}
